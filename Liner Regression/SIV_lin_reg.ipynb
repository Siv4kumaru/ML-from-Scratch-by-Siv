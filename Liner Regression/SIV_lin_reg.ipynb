{
 "cells": [
  {
   "cell_type": "code",
   "execution_count": 1,
   "id": "47506814",
   "metadata": {},
   "outputs": [],
   "source": [
    "import numpy as np\n",
    "from sklearn.datasets import load_diabetes"
   ]
  },
  {
   "cell_type": "code",
   "execution_count": 109,
   "id": "8704d842",
   "metadata": {},
   "outputs": [
    {
     "data": {
      "text/plain": [
       "((353, 10), (89, 10), (442, 10))"
      ]
     },
     "execution_count": 109,
     "metadata": {},
     "output_type": "execute_result"
    }
   ],
   "source": [
    "X,y=load_diabetes(return_X_y=True)\n",
    "split=int(0.8*X.shape[0])\n",
    "X_train,X_test=X[:split],X[split:]\n",
    "y_train,y_test=y[:split],y[split:]\n",
    "X_train.shape,X_test.shape,X.shape"
   ]
  },
  {
   "cell_type": "code",
   "execution_count": null,
   "id": "a9d3f111",
   "metadata": {},
   "outputs": [],
   "source": [
    "class SIV_liner_reg():\n",
    "    def __init__(self,lr=0.001,n_iters=10000):\n",
    "        self.lr=lr\n",
    "        self.n_iters=n_iters\n",
    "        self.w=None\n",
    "        self.b=None\n",
    "        # w is a numpy size based 0 matrix, we need size of traain data columns to determine it\n",
    "        \n",
    "    def fit(self,X,y):\n",
    "        # your job is to find w and b\n",
    "        n_samples,n_cols = X.shape\n",
    "        self.w,self.b=np.zeros(n_cols),0\n",
    "        for _ in range(self.n_iters):\n",
    "            #here broadcasting X (assume [[1,2],[3,4]]) , then we have w\n",
    "            # w (assume [[w1],[w2]]), so we get [[1w1+2w2],[3w1+4w2]]\n",
    "            y_pred=np.dot(X,self.w)+self.b\n",
    "            \n",
    "            #gradients to update the weigths\n",
    "            dw=(2/n_samples)*np.dot(X.T,(y-y_pred))\n",
    "            db=(2/n_samples)*np.sum(y-y_pred)\n",
    "            #update the goods\n",
    "            self.w += -np.dot(self.lr,dw)\n",
    "            self.b += -np.dot(self.lr,db)\n",
    "        print(\"w and b Cooked to perfection\")\n",
    "    \n",
    "    def  predict(self,X):\n",
    "        y_pred=np.dot(X,self.w)+self.b\n",
    "        return y_pred\n",
    "    \n",
    "    def acc(self,y_pred,y_actual):\n",
    "        n=y_pred.shape[0]\n",
    "        mse=(np.sum((y_actual-y_pred)**2))/n\n",
    "        acc=np.corrcoef(y_actual,y_pred)\n",
    "        print(\"\"\"MSE:\",mse)\n",
    "        return mse,acc[0,1]\n",
    "        \n",
    "        \n",
    "lin_reg=SIV_liner_reg()"
   ]
  },
  {
   "cell_type": "code",
   "execution_count": 139,
   "id": "f538c3c4",
   "metadata": {},
   "outputs": [
    {
     "name": "stdout",
     "output_type": "stream",
     "text": [
      "w and b Cooked to perfection\n",
      "MSE: 5.189755282943664e+21\n"
     ]
    },
    {
     "data": {
      "text/plain": [
       "(np.float64(5.189755282943664e+21), np.float64(0.5106918238276386))"
      ]
     },
     "execution_count": 139,
     "metadata": {},
     "output_type": "execute_result"
    }
   ],
   "source": [
    "lin_reg.fit(X_train,y_train)\n",
    "y_pred=lin_reg.predict(X_test)\n",
    "lin_reg.acc(y_pred,y_test)"
   ]
  }
 ],
 "metadata": {
  "kernelspec": {
   "display_name": "Python 3",
   "language": "python",
   "name": "python3"
  },
  "language_info": {
   "codemirror_mode": {
    "name": "ipython",
    "version": 3
   },
   "file_extension": ".py",
   "mimetype": "text/x-python",
   "name": "python",
   "nbconvert_exporter": "python",
   "pygments_lexer": "ipython3",
   "version": "3.12.8"
  }
 },
 "nbformat": 4,
 "nbformat_minor": 5
}
