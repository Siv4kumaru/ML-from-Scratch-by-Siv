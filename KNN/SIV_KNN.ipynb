{
 "cells": [
  {
   "cell_type": "code",
   "execution_count": 2,
   "id": "bad5640f",
   "metadata": {},
   "outputs": [
    {
     "name": "stdout",
     "output_type": "stream",
     "text": [
      "accuracy: 0.8\n"
     ]
    },
    {
     "data": {
      "text/plain": [
       "([np.int64(0), np.int64(0), np.int64(0), np.int64(0), np.int64(1)],\n",
       " np.float64(0.8))"
      ]
     },
     "execution_count": 2,
     "metadata": {},
     "output_type": "execute_result"
    }
   ],
   "source": [
    "import numpy as np\n",
    "from collections import Counter\n",
    "\n",
    "class SIV_KNN:\n",
    "    def __init__(self,k=5):\n",
    "        self.k=k\n",
    "    \n",
    "    def fit(self,X,y):\n",
    "        self.X=X\n",
    "        self.y=y\n",
    "    \n",
    "    def predict(self,X):\n",
    "        self.y_preds=[self._pred_single(x) for x in X]\n",
    "        return self.y_preds\n",
    "    \n",
    "    def _euclid_dist(self,x1,x2):\n",
    "        return np.sqrt(np.sum(x1-x2)**2)\n",
    "    \n",
    "    def _pred_single(self,x):\n",
    "        # return np.random.choice([0,1,2])\n",
    "        nebs_dists = [self._euclid_dist(x,x_train) for x_train in X_train]\n",
    "        k_n_n_idx = np.argsort(nebs_dists)[:self.k]\n",
    "        k_n_n_lables=[self.y[idx] for idx in k_n_n_idx]\n",
    "        # gotta do me some nummmy py , instead of counter(data).most_common()\n",
    "        unq, count = np.unique(k_n_n_lables,return_counts=True)\n",
    "        maj_idx = np.argmax(count)\n",
    "        majority = unq[maj_idx]\n",
    "        return majority\n",
    "    def acc(self,y_test):\n",
    "        acc=np.sum(self.y_preds==y_test)/len(y_test)\n",
    "        print(\"accuracy:\",acc)\n",
    "        return acc\n",
    "from sklearn.datasets import load_wine\n",
    "knn=SIV_KNN()\n",
    "data = load_wine()\n",
    "X_train,y_train=data[\"data\"],data[\"target\"]\n",
    "# print(X_train.shape,y_train.shape)\n",
    "knn.fit(X_train,y_train)\n",
    "knn.predict(X_train[:5]),knn.acc(y_train[:5])\n"
   ]
  }
 ],
 "metadata": {
  "kernelspec": {
   "display_name": "Python 3",
   "language": "python",
   "name": "python3"
  },
  "language_info": {
   "codemirror_mode": {
    "name": "ipython",
    "version": 3
   },
   "file_extension": ".py",
   "mimetype": "text/x-python",
   "name": "python",
   "nbconvert_exporter": "python",
   "pygments_lexer": "ipython3",
   "version": "3.12.8"
  }
 },
 "nbformat": 4,
 "nbformat_minor": 5
}
